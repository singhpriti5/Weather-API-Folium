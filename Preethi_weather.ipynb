{
  "nbformat": 4,
  "nbformat_minor": 0,
  "metadata": {
    "colab": {
      "name": "Preethi_weather.ipynb",
      "provenance": [],
      "collapsed_sections": []
    },
    "kernelspec": {
      "name": "python3",
      "display_name": "Python 3"
    },
    "language_info": {
      "name": "python"
    }
  },
  "cells": [
    {
      "cell_type": "markdown",
      "metadata": {
        "id": "7IoL5V14ATq-"
      },
      "source": [
        "# GET CITY AND WEATHER DATA WITH MAP \n",
        "# Project by Preethi R Ringh\n",
        "To get api key you need to visit https://openweathermap.org/api\n",
        "\n",
        " * Sign-up\n",
        " * Current Weather Data -> subscribe -> Free -> Get API key\n",
        "\n",
        " Visit my <a href=\"https://github.com/singhpriti5\">GitHub Profile</a></br>\n",
        " Visit my Website <a href=\"https://rahulsingh97.github.io/preethi/\">WEBSITE</a>\n"
      ]
    },
    {
      "cell_type": "code",
      "metadata": {
        "colab": {
          "base_uri": "https://localhost:8080/",
          "height": 1000
        },
        "id": "Gz_eoA-pr_-7",
        "outputId": "03bf701a-c775-4631-9d45-571bf87336ce"
      },
      "source": [
        "from IPython.display import clear_output \n",
        "import requests, json\n",
        "import folium\n",
        "\n",
        "BASE_URL = \"https://api.openweathermap.org/data/2.5/weather?\"\n",
        "CITY = input (\"Enter City: \")\n",
        "clear_output()\n",
        "API_KEY= \"PUT YOU API KEY HERE\" \n",
        "URL = BASE_URL + \"q=\" + CITY + \"&appid=\" + API_KEY\n",
        "response = requests.get(URL)\n",
        "\n",
        "# checking the status code of the request\n",
        "if response.status_code == 200:\n",
        "   # getting data in the json format\n",
        "   data = response.json()\n",
        "   # getting the main dict block\n",
        "   main = data['main']\n",
        "   coord = data['coord']\n",
        "   wind = data['wind']\n",
        "   temperature = main['temp']\n",
        "   temperature = temperature - 273.15\n",
        "   humidity = main['humidity']\n",
        "   pressure = main['pressure']\n",
        "   wind_speed = wind['speed']\n",
        "   report = data['weather']\n",
        "   lon = coord['lon']\n",
        "   lat = coord['lat']\n",
        "\n",
        "   print(f\"{CITY:-^30}\")\n",
        "   print(f\"Temperature: {round(temperature,2)}C\")\n",
        "   print(f\"Humidity: {humidity}\")\n",
        "   print(f\"Pressure: {pressure}\")\n",
        "   print(f\"wind Speed: {wind_speed}m/s\")\n",
        "   print(f\"longatude and latude:{lon},{lat}\")\n",
        "   print(f\"Weather : {report[0]['main']}\")\n",
        "   print(f\"Weather description: {report[0]['description']}\")\n",
        "   # printing map using folium\n",
        "else:\n",
        "   # showing the error message\n",
        "   print(\"Error in the HTTP request\")\n",
        "XML_URL = BASE_URL + \"q=\" + CITY +\"&mode=xml\"+ \"&appid=\" + \"API_KEY\"\n",
        "print(XML_URL)\n",
        "map = folium.Map(location=[lat,lon], zoom_start=8)\n",
        "\n",
        "folium.CircleMarker(    \n",
        "    location=[lat,lon],\n",
        "    radius=30,\n",
        "    popup=CITY,\n",
        "    color=\"#3186cc\",\n",
        "    fill=True,\n",
        "    fill_color=\"#3186cc\",\n",
        ").add_to(map)\n",
        "map\n"
      ],
      "execution_count": null,
      "outputs": [
        {
          "output_type": "stream",
          "text": [
            "------------mumbai------------\n",
            "Temperature: 32.51C\n",
            "Humidity: 70\n",
            "Pressure: 1011\n",
            "wind Speed: 7.2m/s\n",
            "longatude and latude:72.8479,19.0144\n",
            "Weather : Haze\n",
            "Weather description: haze\n",
            "https://api.openweathermap.org/data/2.5/weather?q=mumbai&mode=xml&appid=PUT YOU API KEY HERE\n"
          ],
          "name": "stdout"
        },
        {
          "output_type": "execute_result",
          "data": {
            "text/html": [
              "<div style=\"width:100%;\"><div style=\"position:relative;width:100%;height:0;padding-bottom:60%;\"><span style=\"color:#565656\">Make this Notebook Trusted to load map: File -> Trust Notebook</span><iframe src=\"about:blank\" style=\"position:absolute;width:100%;height:100%;left:0;top:0;border:none !important;\" data-html=%3C%21DOCTYPE%20html%3E%0A%3Chead%3E%20%20%20%20%0A%20%20%20%20%3Cmeta%20http-equiv%3D%22content-type%22%20content%3D%22text/html%3B%20charset%3DUTF-8%22%20/%3E%0A%20%20%20%20%3Cscript%3EL_PREFER_CANVAS%3Dfalse%3B%20L_NO_TOUCH%3Dfalse%3B%20L_DISABLE_3D%3Dfalse%3B%3C/script%3E%0A%20%20%20%20%3Cscript%20src%3D%22https%3A//cdn.jsdelivr.net/npm/leaflet%401.4.0/dist/leaflet.js%22%3E%3C/script%3E%0A%20%20%20%20%3Cscript%20src%3D%22https%3A//code.jquery.com/jquery-1.12.4.min.js%22%3E%3C/script%3E%0A%20%20%20%20%3Cscript%20src%3D%22https%3A//maxcdn.bootstrapcdn.com/bootstrap/3.2.0/js/bootstrap.min.js%22%3E%3C/script%3E%0A%20%20%20%20%3Cscript%20src%3D%22https%3A//cdnjs.cloudflare.com/ajax/libs/Leaflet.awesome-markers/2.0.2/leaflet.awesome-markers.js%22%3E%3C/script%3E%0A%20%20%20%20%3Clink%20rel%3D%22stylesheet%22%20href%3D%22https%3A//cdn.jsdelivr.net/npm/leaflet%401.4.0/dist/leaflet.css%22/%3E%0A%20%20%20%20%3Clink%20rel%3D%22stylesheet%22%20href%3D%22https%3A//maxcdn.bootstrapcdn.com/bootstrap/3.2.0/css/bootstrap.min.css%22/%3E%0A%20%20%20%20%3Clink%20rel%3D%22stylesheet%22%20href%3D%22https%3A//maxcdn.bootstrapcdn.com/bootstrap/3.2.0/css/bootstrap-theme.min.css%22/%3E%0A%20%20%20%20%3Clink%20rel%3D%22stylesheet%22%20href%3D%22https%3A//maxcdn.bootstrapcdn.com/font-awesome/4.6.3/css/font-awesome.min.css%22/%3E%0A%20%20%20%20%3Clink%20rel%3D%22stylesheet%22%20href%3D%22https%3A//cdnjs.cloudflare.com/ajax/libs/Leaflet.awesome-markers/2.0.2/leaflet.awesome-markers.css%22/%3E%0A%20%20%20%20%3Clink%20rel%3D%22stylesheet%22%20href%3D%22https%3A//rawcdn.githack.com/python-visualization/folium/master/folium/templates/leaflet.awesome.rotate.css%22/%3E%0A%20%20%20%20%3Cstyle%3Ehtml%2C%20body%20%7Bwidth%3A%20100%25%3Bheight%3A%20100%25%3Bmargin%3A%200%3Bpadding%3A%200%3B%7D%3C/style%3E%0A%20%20%20%20%3Cstyle%3E%23map%20%7Bposition%3Aabsolute%3Btop%3A0%3Bbottom%3A0%3Bright%3A0%3Bleft%3A0%3B%7D%3C/style%3E%0A%20%20%20%20%0A%20%20%20%20%3Cmeta%20name%3D%22viewport%22%20content%3D%22width%3Ddevice-width%2C%0A%20%20%20%20%20%20%20%20initial-scale%3D1.0%2C%20maximum-scale%3D1.0%2C%20user-scalable%3Dno%22%20/%3E%0A%20%20%20%20%3Cstyle%3E%23map_c2033fa169b74f52b84db41108bdbc79%20%7B%0A%20%20%20%20%20%20%20%20position%3A%20relative%3B%0A%20%20%20%20%20%20%20%20width%3A%20100.0%25%3B%0A%20%20%20%20%20%20%20%20height%3A%20100.0%25%3B%0A%20%20%20%20%20%20%20%20left%3A%200.0%25%3B%0A%20%20%20%20%20%20%20%20top%3A%200.0%25%3B%0A%20%20%20%20%20%20%20%20%7D%0A%20%20%20%20%3C/style%3E%0A%3C/head%3E%0A%3Cbody%3E%20%20%20%20%0A%20%20%20%20%0A%20%20%20%20%3Cdiv%20class%3D%22folium-map%22%20id%3D%22map_c2033fa169b74f52b84db41108bdbc79%22%20%3E%3C/div%3E%0A%3C/body%3E%0A%3Cscript%3E%20%20%20%20%0A%20%20%20%20%0A%20%20%20%20%0A%20%20%20%20%20%20%20%20var%20bounds%20%3D%20null%3B%0A%20%20%20%20%0A%0A%20%20%20%20var%20map_c2033fa169b74f52b84db41108bdbc79%20%3D%20L.map%28%0A%20%20%20%20%20%20%20%20%27map_c2033fa169b74f52b84db41108bdbc79%27%2C%20%7B%0A%20%20%20%20%20%20%20%20center%3A%20%5B19.0144%2C%2072.8479%5D%2C%0A%20%20%20%20%20%20%20%20zoom%3A%208%2C%0A%20%20%20%20%20%20%20%20maxBounds%3A%20bounds%2C%0A%20%20%20%20%20%20%20%20layers%3A%20%5B%5D%2C%0A%20%20%20%20%20%20%20%20worldCopyJump%3A%20false%2C%0A%20%20%20%20%20%20%20%20crs%3A%20L.CRS.EPSG3857%2C%0A%20%20%20%20%20%20%20%20zoomControl%3A%20true%2C%0A%20%20%20%20%20%20%20%20%7D%29%3B%0A%0A%0A%20%20%20%20%0A%20%20%20%20var%20tile_layer_9e1dea788bf349c1aaf83721efb5bb5f%20%3D%20L.tileLayer%28%0A%20%20%20%20%20%20%20%20%27https%3A//%7Bs%7D.tile.openstreetmap.org/%7Bz%7D/%7Bx%7D/%7By%7D.png%27%2C%0A%20%20%20%20%20%20%20%20%7B%0A%20%20%20%20%20%20%20%20%22attribution%22%3A%20null%2C%0A%20%20%20%20%20%20%20%20%22detectRetina%22%3A%20false%2C%0A%20%20%20%20%20%20%20%20%22maxNativeZoom%22%3A%2018%2C%0A%20%20%20%20%20%20%20%20%22maxZoom%22%3A%2018%2C%0A%20%20%20%20%20%20%20%20%22minZoom%22%3A%200%2C%0A%20%20%20%20%20%20%20%20%22noWrap%22%3A%20false%2C%0A%20%20%20%20%20%20%20%20%22opacity%22%3A%201%2C%0A%20%20%20%20%20%20%20%20%22subdomains%22%3A%20%22abc%22%2C%0A%20%20%20%20%20%20%20%20%22tms%22%3A%20false%0A%7D%29.addTo%28map_c2033fa169b74f52b84db41108bdbc79%29%3B%0A%20%20%20%20%0A%20%20%20%20%20%20%20%20%20%20%20%20var%20circle_marker_dd33beea279f4eb6aa9f94b178ef2362%20%3D%20L.circleMarker%28%0A%20%20%20%20%20%20%20%20%20%20%20%20%20%20%20%20%5B19.0144%2C%2072.8479%5D%2C%0A%20%20%20%20%20%20%20%20%20%20%20%20%20%20%20%20%7B%0A%20%20%22bubblingMouseEvents%22%3A%20true%2C%0A%20%20%22color%22%3A%20%22%233186cc%22%2C%0A%20%20%22dashArray%22%3A%20null%2C%0A%20%20%22dashOffset%22%3A%20null%2C%0A%20%20%22fill%22%3A%20true%2C%0A%20%20%22fillColor%22%3A%20%22%233186cc%22%2C%0A%20%20%22fillOpacity%22%3A%200.2%2C%0A%20%20%22fillRule%22%3A%20%22evenodd%22%2C%0A%20%20%22lineCap%22%3A%20%22round%22%2C%0A%20%20%22lineJoin%22%3A%20%22round%22%2C%0A%20%20%22opacity%22%3A%201.0%2C%0A%20%20%22radius%22%3A%2030%2C%0A%20%20%22stroke%22%3A%20true%2C%0A%20%20%22weight%22%3A%203%0A%7D%0A%20%20%20%20%20%20%20%20%20%20%20%20%20%20%20%20%29%0A%20%20%20%20%20%20%20%20%20%20%20%20%20%20%20%20.addTo%28map_c2033fa169b74f52b84db41108bdbc79%29%3B%0A%20%20%20%20%20%20%20%20%20%20%20%20%0A%20%20%20%20%0A%20%20%20%20%20%20%20%20%20%20%20%20var%20popup_c9bc602f060a4a3dbf21014b6d4d81f2%20%3D%20L.popup%28%7BmaxWidth%3A%20%27100%25%27%0A%20%20%20%20%20%20%20%20%20%20%20%20%0A%20%20%20%20%20%20%20%20%20%20%20%20%7D%29%3B%0A%0A%20%20%20%20%20%20%20%20%20%20%20%20%0A%20%20%20%20%20%20%20%20%20%20%20%20%20%20%20%20var%20html_1bf1d8d1a38c4c1bb6c0ba1438547505%20%3D%20%24%28%60%3Cdiv%20id%3D%22html_1bf1d8d1a38c4c1bb6c0ba1438547505%22%20style%3D%22width%3A%20100.0%25%3B%20height%3A%20100.0%25%3B%22%3Emumbai%3C/div%3E%60%29%5B0%5D%3B%0A%20%20%20%20%20%20%20%20%20%20%20%20%20%20%20%20popup_c9bc602f060a4a3dbf21014b6d4d81f2.setContent%28html_1bf1d8d1a38c4c1bb6c0ba1438547505%29%3B%0A%20%20%20%20%20%20%20%20%20%20%20%20%0A%0A%20%20%20%20%20%20%20%20%20%20%20%20circle_marker_dd33beea279f4eb6aa9f94b178ef2362.bindPopup%28popup_c9bc602f060a4a3dbf21014b6d4d81f2%29%0A%20%20%20%20%20%20%20%20%20%20%20%20%3B%0A%0A%20%20%20%20%20%20%20%20%20%20%20%20%0A%20%20%20%20%20%20%20%20%0A%3C/script%3E onload=\"this.contentDocument.open();this.contentDocument.write(    decodeURIComponent(this.getAttribute('data-html')));this.contentDocument.close();\" allowfullscreen webkitallowfullscreen mozallowfullscreen></iframe></div></div>"
            ],
            "text/plain": [
              "<folium.folium.Map at 0x7f98775ac350>"
            ]
          },
          "metadata": {
            "tags": []
          },
          "execution_count": 2
        }
      ]
    }
  ]
}